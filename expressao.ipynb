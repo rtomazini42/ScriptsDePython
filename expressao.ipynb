{
  "nbformat": 4,
  "nbformat_minor": 0,
  "metadata": {
    "colab": {
      "name": "Untitled6.ipynb",
      "provenance": [],
      "authorship_tag": "ABX9TyPFdk44mQleJ8RcLIvS6Jja",
      "include_colab_link": true
    },
    "kernelspec": {
      "name": "python3",
      "display_name": "Python 3"
    },
    "language_info": {
      "name": "python"
    }
  },
  "cells": [
    {
      "cell_type": "markdown",
      "metadata": {
        "id": "view-in-github",
        "colab_type": "text"
      },
      "source": [
        "<a href=\"https://colab.research.google.com/github/rtomazini42/ScriptsDePython/blob/main/expressao.ipynb\" target=\"_parent\"><img src=\"https://colab.research.google.com/assets/colab-badge.svg\" alt=\"Open In Colab\"/></a>"
      ]
    },
    {
      "cell_type": "code",
      "metadata": {
        "colab": {
          "base_uri": "https://localhost:8080/"
        },
        "id": "FNRWFuE_cAoX",
        "outputId": "82f43b1c-208f-4e80-92d5-0f778849670a"
      },
      "source": [
        "import matplotlib.pyplot as plt\n",
        "import numpy as np\n",
        "\n",
        "def func1(x):\n",
        "  y = (np.exp(-x) - np.sin(((np.pi)*x)/2))\n",
        "  y = x\n",
        "  return y\n",
        "\n",
        "def bissecao(xmin, xmax, prec, lim_iter):\n",
        "  #print(\"entrou\")\n",
        "  n_iter = 0\n",
        "  #print(\"entrando no while\")\n",
        "  while((abs(xmax - xmin) > prec) and ( n_iter < lim_iter)):\n",
        "    #print(\"while((abs(xmax - xmin) > prec)):\")\n",
        "    ymax = func1(xmax)\n",
        "    ymin = func1(xmin)\n",
        "    if(ymax * ymin > 0):\n",
        "      #print(\"if(ymaxymin > 0):\")\n",
        "      print(\"foram feitas %i iterações\" %(n_iter))\n",
        "      print(\"valor calculado da raiz: \", raiz)\n",
        "      return (raiz)\n",
        "    #print('xmedio = (xmin + xmax)/2; ymedio = func1(xmedio)')\n",
        "    xmedio = (xmin + xmax)/2\n",
        "    ymedio = func1(xmedio)\n",
        "    if(ymin * ymedio < 0):\n",
        "      #print(\"if(ymin*ymedio < 0):\")\n",
        "      xmax = xmedio\n",
        "    else:\n",
        "      #print(\"else\")\n",
        "      xmin = xmedio\n",
        "    n_iter += 1\n",
        "    #print(\"incrmentou\")\n",
        "    raiz = xmedio\n",
        "    #print(\"raiz = medio\")\n",
        "\n",
        "\n",
        "xmin = 0.0\n",
        "xmax = 1.0\n",
        "prec = 0.0000001\n",
        "lim_iter = 100000\n",
        "\n",
        "bissecao(xmin, xmax, prec, lim_iter)"
      ],
      "execution_count": 14,
      "outputs": [
        {
          "output_type": "stream",
          "text": [
            "foram feitas 1 iterações\n",
            "valor calculado da raiz:  0.5\n"
          ],
          "name": "stdout"
        },
        {
          "output_type": "execute_result",
          "data": {
            "text/plain": [
              "0.5"
            ]
          },
          "metadata": {
            "tags": []
          },
          "execution_count": 14
        }
      ]
    }
  ]
}